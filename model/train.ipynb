{
 "cells": [
  {
   "cell_type": "markdown",
   "source": [
    "# 导入数据及预处理"
   ],
   "metadata": {
    "collapsed": false
   }
  },
  {
   "cell_type": "code",
   "execution_count": 1,
   "outputs": [],
   "source": [
    "from data_process.Image_pair_creation import *\n",
    "\n",
    "X, Y = get_data_from_npy(size=2, total_sample_size=10000)"
   ],
   "metadata": {
    "collapsed": false,
    "ExecuteTime": {
     "end_time": "2024-03-27T10:20:12.381625100Z",
     "start_time": "2024-03-27T10:20:11.459977300Z"
    }
   }
  },
  {
   "cell_type": "code",
   "execution_count": 2,
   "outputs": [
    {
     "data": {
      "text/plain": "(20000, 2, 1, 56, 46)"
     },
     "execution_count": 2,
     "metadata": {},
     "output_type": "execute_result"
    }
   ],
   "source": [
    "X.shape"
   ],
   "metadata": {
    "collapsed": false,
    "ExecuteTime": {
     "end_time": "2024-03-27T10:20:12.397063300Z",
     "start_time": "2024-03-27T10:20:12.381625100Z"
    }
   }
  },
  {
   "cell_type": "code",
   "execution_count": 3,
   "outputs": [
    {
     "data": {
      "text/plain": "(1, 56, 46)"
     },
     "execution_count": 3,
     "metadata": {},
     "output_type": "execute_result"
    }
   ],
   "source": [
    "X[1,0].shape"
   ],
   "metadata": {
    "collapsed": false,
    "ExecuteTime": {
     "end_time": "2024-03-27T10:20:12.458301700Z",
     "start_time": "2024-03-27T10:20:12.397063300Z"
    }
   }
  },
  {
   "cell_type": "code",
   "execution_count": 4,
   "outputs": [
    {
     "data": {
      "text/plain": "<PIL.Image.Image image mode=L size=46x56>",
      "image/png": "[encoded data removed]",
      "image/jpeg": "[encoded data removed]"
     },
     "execution_count": 4,
     "metadata": {},
     "output_type": "execute_result"
    }
   ],
   "source": [
    "from PIL import Image\n",
    "your_matrix = np.squeeze(X[1,0])\n",
    "image = Image.fromarray(np.uint8(your_matrix * 255))\n",
    "image"
   ],
   "metadata": {
    "collapsed": false,
    "ExecuteTime": {
     "end_time": "2024-03-27T10:20:12.474350700Z",
     "start_time": "2024-03-27T10:20:12.416631600Z"
    }
   }
  },
  {
   "cell_type": "code",
   "execution_count": 5,
   "outputs": [
    {
     "data": {
      "text/plain": "(20000, 1)"
     },
     "execution_count": 5,
     "metadata": {},
     "output_type": "execute_result"
    }
   ],
   "source": [
    "Y.shape"
   ],
   "metadata": {
    "collapsed": false,
    "ExecuteTime": {
     "end_time": "2024-03-27T10:20:12.521658400Z",
     "start_time": "2024-03-27T10:20:12.480658100Z"
    }
   }
  },
  {
   "cell_type": "code",
   "execution_count": 6,
   "outputs": [],
   "source": [
    "from sklearn.model_selection import train_test_split\n",
    "x_train, x_test, y_train, y_test = train_test_split(X, Y, test_size=.25)"
   ],
   "metadata": {
    "collapsed": false,
    "ExecuteTime": {
     "end_time": "2024-03-27T10:20:13.375051200Z",
     "start_time": "2024-03-27T10:20:12.495193600Z"
    }
   }
  },
  {
   "cell_type": "code",
   "execution_count": 7,
   "outputs": [
    {
     "data": {
      "text/plain": "(15000, 2, 1, 56, 46)"
     },
     "execution_count": 7,
     "metadata": {},
     "output_type": "execute_result"
    }
   ],
   "source": [
    "x_train.shape"
   ],
   "metadata": {
    "collapsed": false,
    "ExecuteTime": {
     "end_time": "2024-03-27T10:20:13.394713300Z",
     "start_time": "2024-03-27T10:20:13.375051200Z"
    }
   }
  },
  {
   "cell_type": "markdown",
   "source": [
    "# 网络搭建"
   ],
   "metadata": {
    "collapsed": false
   }
  },
  {
   "cell_type": "code",
   "execution_count": 8,
   "outputs": [],
   "source": [
    "from model.network import *\n",
    "\n",
    "input_dim = x_train.shape[2:]\n",
    "img_a = Input(shape=input_dim)\n",
    "img_b = Input(shape=input_dim)"
   ],
   "metadata": {
    "collapsed": false,
    "ExecuteTime": {
     "end_time": "2024-03-27T10:20:16.184686700Z",
     "start_time": "2024-03-27T10:20:13.394713300Z"
    }
   }
  },
  {
   "cell_type": "code",
   "execution_count": 9,
   "outputs": [
    {
     "data": {
      "text/plain": "TensorShape([None, 1, 56, 46])"
     },
     "execution_count": 9,
     "metadata": {},
     "output_type": "execute_result"
    }
   ],
   "source": [
    "img_a.shape"
   ],
   "metadata": {
    "collapsed": false,
    "ExecuteTime": {
     "end_time": "2024-03-27T10:20:16.199305800Z",
     "start_time": "2024-03-27T10:20:16.184686700Z"
    }
   }
  },
  {
   "cell_type": "code",
   "execution_count": 10,
   "outputs": [
    {
     "data": {
      "text/plain": "(1, 56, 46)"
     },
     "execution_count": 10,
     "metadata": {},
     "output_type": "execute_result"
    }
   ],
   "source": [
    "input_dim"
   ],
   "metadata": {
    "collapsed": false,
    "ExecuteTime": {
     "end_time": "2024-03-27T10:20:16.261398700Z",
     "start_time": "2024-03-27T10:20:16.199305800Z"
    }
   }
  },
  {
   "cell_type": "code",
   "execution_count": 11,
   "outputs": [],
   "source": [
    "base_network = build_base_network(input_dim)\n",
    "feat_vecs_a = base_network(img_a)\n",
    "feat_vecs_b = base_network(img_b)"
   ],
   "metadata": {
    "collapsed": false,
    "ExecuteTime": {
     "end_time": "2024-03-27T10:20:18.107827900Z",
     "start_time": "2024-03-27T10:20:16.217142800Z"
    }
   }
  },
  {
   "cell_type": "code",
   "execution_count": 12,
   "outputs": [
    {
     "data": {
      "text/plain": "<KerasTensor: shape=(None, 50) dtype=float32 (created by layer 'sequential')>"
     },
     "execution_count": 12,
     "metadata": {},
     "output_type": "execute_result"
    }
   ],
   "source": [
    "feat_vecs_a"
   ],
   "metadata": {
    "collapsed": false,
    "ExecuteTime": {
     "end_time": "2024-03-27T10:20:18.123464200Z",
     "start_time": "2024-03-27T10:20:18.107827900Z"
    }
   }
  },
  {
   "cell_type": "markdown",
   "source": [
    "# 距离函数"
   ],
   "metadata": {
    "collapsed": false
   }
  },
  {
   "cell_type": "code",
   "execution_count": 13,
   "outputs": [],
   "source": [
    "from distance_function import *\n",
    "# 使用欧式距离\n",
    "# distance = EuclideanDistanceLayer()([feat_vecs_a, feat_vecs_b])\n",
    "# 使用马氏距离\n",
    "inverse_covariance = np.eye(50)\n",
    "distance = MahalanobisDistanceLayer(inverse_covariance)([feat_vecs_a, feat_vecs_b])"
   ],
   "metadata": {
    "collapsed": false,
    "ExecuteTime": {
     "end_time": "2024-03-27T10:20:18.186312700Z",
     "start_time": "2024-03-27T10:20:18.123464200Z"
    }
   }
  },
  {
   "cell_type": "code",
   "execution_count": 14,
   "outputs": [],
   "source": [
    "from keras.models import Model\n",
    "model = Model(inputs=[img_a, img_b], outputs=distance)"
   ],
   "metadata": {
    "collapsed": false,
    "ExecuteTime": {
     "end_time": "2024-03-27T10:20:18.201694400Z",
     "start_time": "2024-03-27T10:20:18.189316Z"
    }
   }
  },
  {
   "cell_type": "markdown",
   "source": [
    "# 优化器与损失函数"
   ],
   "metadata": {
    "collapsed": false
   }
  },
  {
   "cell_type": "code",
   "execution_count": 15,
   "outputs": [],
   "source": [
    "import tensorflow as tf\n",
    "\n",
    "def compute_accuracy(predictions, labels):\n",
    "    predictions = tf.reshape(predictions, [-1])  # 将预测结果展平\n",
    "    a = tf.reduce_mean(tf.cast(labels[predictions < 0.5], dtype=tf.float32))\n",
    "    return tf.where(a > 1, tf.ones_like(a), a)"
   ],
   "metadata": {
    "collapsed": false,
    "ExecuteTime": {
     "end_time": "2024-03-27T10:20:18.220615800Z",
     "start_time": "2024-03-27T10:20:18.201694400Z"
    }
   }
  },
  {
   "cell_type": "code",
   "execution_count": 16,
   "outputs": [],
   "source": [
    "# 优化器\n",
    "from keras.optimizers import RMSprop, SGD, Adam\n",
    "\n",
    "# 损失函数\n",
    "def contrastive_loss(y_true, y_pred):\n",
    "    margin = 1\n",
    "    return K.mean(y_true * K.square(y_pred) + (1 - y_true) * K.square(K.maximum(margin - y_pred, 0)))"
   ],
   "metadata": {
    "collapsed": false,
    "ExecuteTime": {
     "end_time": "2024-03-27T10:20:18.233293900Z",
     "start_time": "2024-03-27T10:20:18.220615800Z"
    }
   }
  },
  {
   "cell_type": "code",
   "execution_count": 17,
   "outputs": [
    {
     "name": "stdout",
     "output_type": "stream",
     "text": [
      "Model: \"model\"\n",
      "__________________________________________________________________________________________________\n",
      " Layer (type)                   Output Shape         Param #     Connected to                     \n",
      "==================================================================================================\n",
      " input_1 (InputLayer)           [(None, 1, 56, 46)]  0           []                               \n",
      "                                                                                                  \n",
      " input_2 (InputLayer)           [(None, 1, 56, 46)]  0           []                               \n",
      "                                                                                                  \n",
      " sequential (Sequential)        (None, 50)           394046      ['input_1[0][0]',                \n",
      "                                                                  'input_2[0][0]']                \n",
      "                                                                                                  \n",
      " mahalanobis_distance_layer (Ma  (None, 1)           0           ['sequential[0][0]',             \n",
      " halanobisDistanceLayer)                                          'sequential[1][0]']             \n",
      "                                                                                                  \n",
      "==================================================================================================\n",
      "Total params: 394,046\n",
      "Trainable params: 394,046\n",
      "Non-trainable params: 0\n",
      "__________________________________________________________________________________________________\n"
     ]
    }
   ],
   "source": [
    "# RMSprop(learning_rate=0.001)/SGD(learning_rate=0.0001)/\n",
    "model.compile(loss=contrastive_loss, optimizer=Adam(learning_rate=0.001),\n",
    "              metrics=[compute_accuracy])\n",
    "model.summary()"
   ],
   "metadata": {
    "collapsed": false,
    "ExecuteTime": {
     "end_time": "2024-03-27T10:20:18.281495500Z",
     "start_time": "2024-03-27T10:20:18.233293900Z"
    }
   }
  },
  {
   "cell_type": "markdown",
   "source": [
    "# 模型训练"
   ],
   "metadata": {
    "collapsed": false
   }
  },
  {
   "cell_type": "code",
   "execution_count": 18,
   "outputs": [],
   "source": [
    "img_1 = x_train[:, 0]\n",
    "img2 = x_train[:, 1]"
   ],
   "metadata": {
    "collapsed": false,
    "ExecuteTime": {
     "end_time": "2024-03-27T10:20:18.418731900Z",
     "start_time": "2024-03-27T10:20:18.277124100Z"
    }
   }
  },
  {
   "cell_type": "code",
   "execution_count": 19,
   "outputs": [
    {
     "data": {
      "text/plain": "(15000, 1, 56, 46)"
     },
     "execution_count": 19,
     "metadata": {},
     "output_type": "execute_result"
    }
   ],
   "source": [
    "img_1.shape"
   ],
   "metadata": {
    "collapsed": false,
    "ExecuteTime": {
     "end_time": "2024-03-27T10:20:18.477689100Z",
     "start_time": "2024-03-27T10:20:18.419741200Z"
    }
   }
  },
  {
   "cell_type": "code",
   "execution_count": 20,
   "outputs": [
    {
     "name": "stdout",
     "output_type": "stream",
     "text": [
      "Epoch 1/30\n",
      "94/94 [==============================] - 7s 22ms/step - loss: 0.1714 - compute_accuracy: 0.7058 - val_loss: 0.1688 - val_compute_accuracy: 0.4944\n",
      "Epoch 2/30\n",
      "94/94 [==============================] - 1s 13ms/step - loss: 0.1122 - compute_accuracy: 0.8589 - val_loss: 0.1211 - val_compute_accuracy: 0.5923\n",
      "Epoch 3/30\n",
      "94/94 [==============================] - 1s 13ms/step - loss: 0.0863 - compute_accuracy: 0.9328 - val_loss: 0.0714 - val_compute_accuracy: 0.7849\n",
      "Epoch 4/30\n",
      "94/94 [==============================] - 1s 13ms/step - loss: 0.0705 - compute_accuracy: 0.9747 - val_loss: 0.0759 - val_compute_accuracy: 0.7291\n",
      "Epoch 5/30\n",
      "94/94 [==============================] - 1s 13ms/step - loss: 0.0593 - compute_accuracy: 0.9955 - val_loss: 0.0621 - val_compute_accuracy: 0.8003\n",
      "Epoch 6/30\n",
      "94/94 [==============================] - 1s 13ms/step - loss: 0.0533 - compute_accuracy: 0.9979 - val_loss: 0.0518 - val_compute_accuracy: 0.8597\n",
      "Epoch 7/30\n",
      "94/94 [==============================] - 1s 13ms/step - loss: 0.0495 - compute_accuracy: 0.9991 - val_loss: 0.0548 - val_compute_accuracy: 0.8356\n",
      "Epoch 8/30\n",
      "94/94 [==============================] - 1s 13ms/step - loss: 0.0461 - compute_accuracy: 0.9994 - val_loss: 0.0469 - val_compute_accuracy: 0.8900\n",
      "Epoch 9/30\n",
      "94/94 [==============================] - 1s 13ms/step - loss: 0.0419 - compute_accuracy: 0.9997 - val_loss: 0.0486 - val_compute_accuracy: 0.8818\n",
      "Epoch 10/30\n",
      "94/94 [==============================] - 1s 13ms/step - loss: 0.0399 - compute_accuracy: 1.0000 - val_loss: 0.0457 - val_compute_accuracy: 0.9057\n",
      "Epoch 11/30\n",
      "94/94 [==============================] - 1s 13ms/step - loss: 0.0380 - compute_accuracy: 1.0000 - val_loss: 0.0420 - val_compute_accuracy: 0.9337\n",
      "Epoch 12/30\n",
      "94/94 [==============================] - 1s 13ms/step - loss: 0.0357 - compute_accuracy: 1.0000 - val_loss: 0.0325 - val_compute_accuracy: 0.9824\n",
      "Epoch 13/30\n",
      "94/94 [==============================] - 1s 13ms/step - loss: 0.0334 - compute_accuracy: 1.0000 - val_loss: 0.0341 - val_compute_accuracy: 0.9747\n",
      "Epoch 14/30\n",
      "94/94 [==============================] - 1s 13ms/step - loss: 0.0322 - compute_accuracy: 1.0000 - val_loss: 0.0344 - val_compute_accuracy: 0.9762\n",
      "Epoch 15/30\n",
      "94/94 [==============================] - 1s 13ms/step - loss: 0.0305 - compute_accuracy: 1.0000 - val_loss: 0.0309 - val_compute_accuracy: 0.9897\n",
      "Epoch 16/30\n",
      "94/94 [==============================] - 1s 13ms/step - loss: 0.0289 - compute_accuracy: 1.0000 - val_loss: 0.0330 - val_compute_accuracy: 0.9838\n",
      "Epoch 17/30\n",
      "94/94 [==============================] - 1s 13ms/step - loss: 0.0276 - compute_accuracy: 1.0000 - val_loss: 0.0256 - val_compute_accuracy: 1.0000\n",
      "Epoch 18/30\n",
      "94/94 [==============================] - 1s 13ms/step - loss: 0.0263 - compute_accuracy: 1.0000 - val_loss: 0.0250 - val_compute_accuracy: 1.0000\n",
      "Epoch 19/30\n",
      "94/94 [==============================] - 1s 13ms/step - loss: 0.0255 - compute_accuracy: 1.0000 - val_loss: 0.0238 - val_compute_accuracy: 1.0000\n",
      "Epoch 20/30\n",
      "94/94 [==============================] - 1s 13ms/step - loss: 0.0247 - compute_accuracy: 1.0000 - val_loss: 0.0228 - val_compute_accuracy: 1.0000\n",
      "Epoch 21/30\n",
      "94/94 [==============================] - 1s 13ms/step - loss: 0.0239 - compute_accuracy: 1.0000 - val_loss: 0.0222 - val_compute_accuracy: 1.0000\n",
      "Epoch 22/30\n",
      "94/94 [==============================] - 1s 13ms/step - loss: 0.0225 - compute_accuracy: 1.0000 - val_loss: 0.0229 - val_compute_accuracy: 1.0000\n",
      "Epoch 23/30\n",
      "94/94 [==============================] - 1s 13ms/step - loss: 0.0217 - compute_accuracy: 1.0000 - val_loss: 0.0190 - val_compute_accuracy: 1.0000\n",
      "Epoch 24/30\n",
      "94/94 [==============================] - 1s 13ms/step - loss: 0.0210 - compute_accuracy: 1.0000 - val_loss: 0.0217 - val_compute_accuracy: 1.0000\n",
      "Epoch 25/30\n",
      "94/94 [==============================] - 1s 13ms/step - loss: 0.0205 - compute_accuracy: 1.0000 - val_loss: 0.0208 - val_compute_accuracy: 1.0000\n",
      "Epoch 26/30\n",
      "94/94 [==============================] - 1s 13ms/step - loss: 0.0195 - compute_accuracy: 1.0000 - val_loss: 0.0204 - val_compute_accuracy: 1.0000\n",
      "Epoch 27/30\n",
      "94/94 [==============================] - 1s 13ms/step - loss: 0.0194 - compute_accuracy: 1.0000 - val_loss: 0.0219 - val_compute_accuracy: 1.0000\n",
      "Epoch 28/30\n",
      "94/94 [==============================] - 1s 13ms/step - loss: 0.0182 - compute_accuracy: 1.0000 - val_loss: 0.0201 - val_compute_accuracy: 1.0000\n",
      "Epoch 29/30\n",
      "94/94 [==============================] - 1s 13ms/step - loss: 0.0177 - compute_accuracy: 1.0000 - val_loss: 0.0183 - val_compute_accuracy: 1.0000\n",
      "Epoch 30/30\n",
      "94/94 [==============================] - 1s 13ms/step - loss: 0.0177 - compute_accuracy: 1.0000 - val_loss: 0.0174 - val_compute_accuracy: 1.0000\n"
     ]
    }
   ],
   "source": [
    "history = model.fit([img_1, img2], y_train, validation_split=.2, epochs=30, batch_size=128, verbose=1)"
   ],
   "metadata": {
    "collapsed": false,
    "ExecuteTime": {
     "end_time": "2024-03-27T10:21:00.291796400Z",
     "start_time": "2024-03-27T10:20:18.450142Z"
    }
   }
  },
  {
   "cell_type": "markdown",
   "source": [
    "# 可视化分析"
   ],
   "metadata": {
    "collapsed": false
   }
  },
  {
   "cell_type": "code",
   "execution_count": 21,
   "outputs": [
    {
     "data": {
      "text/plain": "<Figure size 1200x400 with 2 Axes>",
      "image/png": "[encoded data removed]"
     },
     "metadata": {},
     "output_type": "display_data"
    }
   ],
   "source": [
    "import matplotlib.pyplot as plt\n",
    "\n",
    "# 画出损失曲线\n",
    "plt.figure(figsize=(12, 4))\n",
    "\n",
    "# 画出训练损失\n",
    "plt.subplot(1, 2, 1)\n",
    "plt.plot(history.history['loss'], label='Training Loss')\n",
    "plt.plot(history.history['val_loss'], label='Validation Loss')\n",
    "plt.title('Training and Validation Loss')\n",
    "plt.xlabel('Epoch')\n",
    "plt.ylabel('Loss')\n",
    "plt.legend()\n",
    "\n",
    "# 画出准确率曲线\n",
    "plt.subplot(1, 2, 2)\n",
    "plt.plot(history.history['compute_accuracy'], label='Training Accuracy')\n",
    "plt.plot(history.history['val_compute_accuracy'], label='Validation Accuracy')\n",
    "plt.title('Training and Validation Accuracy')\n",
    "plt.xlabel('Epoch')\n",
    "plt.ylabel('Accuracy')\n",
    "plt.legend()\n",
    "\n",
    "plt.tight_layout()\n",
    "# plt.savefig('/kaggle/working/img.png')\n",
    "plt.show()"
   ],
   "metadata": {
    "collapsed": false,
    "ExecuteTime": {
     "end_time": "2024-03-27T10:21:00.912208400Z",
     "start_time": "2024-03-27T10:21:00.298698600Z"
    }
   }
  },
  {
   "cell_type": "markdown",
   "source": [
    "# 训练集测试"
   ],
   "metadata": {
    "collapsed": false
   }
  },
  {
   "cell_type": "code",
   "execution_count": 22,
   "outputs": [
    {
     "name": "stdout",
     "output_type": "stream",
     "text": [
      "157/157 [==============================] - 1s 3ms/step\n"
     ]
    }
   ],
   "source": [
    "pred = model.predict([x_test[:, 0], x_test[:, 1]])\n",
    "def compute_accuracy_2(predictions, labels):\n",
    "    return labels[predictions.ravel() < 0.5].mean()"
   ],
   "metadata": {
    "collapsed": false,
    "ExecuteTime": {
     "end_time": "2024-03-27T10:21:02.067399600Z",
     "start_time": "2024-03-27T10:21:00.914259400Z"
    }
   }
  },
  {
   "cell_type": "code",
   "execution_count": 23,
   "outputs": [
    {
     "data": {
      "text/plain": "0.9558139534883721"
     },
     "execution_count": 23,
     "metadata": {},
     "output_type": "execute_result"
    }
   ],
   "source": [
    "compute_accuracy_2(pred, y_test)"
   ],
   "metadata": {
    "collapsed": false,
    "ExecuteTime": {
     "end_time": "2024-03-27T10:21:02.083251500Z",
     "start_time": "2024-03-27T10:21:02.068399400Z"
    }
   }
  },
  {
   "cell_type": "code",
   "execution_count": null,
   "outputs": [],
   "source": [],
   "metadata": {
    "collapsed": false
   }
  }
 ],
 "metadata": {
  "kernelspec": {
   "display_name": "Python 3",
   "language": "python",
   "name": "python3"
  },
  "language_info": {
   "codemirror_mode": {
    "name": "ipython",
    "version": 2
   },
   "file_extension": ".py",
   "mimetype": "text/x-python",
   "name": "python",
   "nbconvert_exporter": "python",
   "pygments_lexer": "ipython2",
   "version": "2.7.6"
  }
 },
 "nbformat": 4,
 "nbformat_minor": 0
}
