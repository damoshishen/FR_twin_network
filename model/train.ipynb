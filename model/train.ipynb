{
 "cells": [
  {
   "cell_type": "markdown",
   "source": [
    "# 导入数据及预处理"
   ],
   "metadata": {
    "collapsed": false
   }
  },
  {
   "cell_type": "code",
   "execution_count": 1,
   "outputs": [],
   "source": [
    "from data_process.Image_pair_creation import *\n",
    "\n",
    "X, Y = get_data_from_npy(size=2, total_sample_size=10000)"
   ],
   "metadata": {
    "collapsed": false,
    "ExecuteTime": {
     "end_time": "2024-03-28T04:58:29.538870800Z",
     "start_time": "2024-03-28T04:58:28.666033300Z"
    }
   }
  },
  {
   "cell_type": "code",
   "execution_count": 2,
   "outputs": [
    {
     "data": {
      "text/plain": "(20000, 2, 1, 56, 46)"
     },
     "execution_count": 2,
     "metadata": {},
     "output_type": "execute_result"
    }
   ],
   "source": [
    "X.shape"
   ],
   "metadata": {
    "collapsed": false,
    "ExecuteTime": {
     "end_time": "2024-03-28T04:58:29.557867600Z",
     "start_time": "2024-03-28T04:58:29.532866300Z"
    }
   }
  },
  {
   "cell_type": "code",
   "execution_count": 3,
   "outputs": [
    {
     "data": {
      "text/plain": "(1, 56, 46)"
     },
     "execution_count": 3,
     "metadata": {},
     "output_type": "execute_result"
    }
   ],
   "source": [
    "X[1,0].shape"
   ],
   "metadata": {
    "collapsed": false,
    "ExecuteTime": {
     "end_time": "2024-03-28T04:58:29.572866500Z",
     "start_time": "2024-03-28T04:58:29.549868200Z"
    }
   }
  },
  {
   "cell_type": "code",
   "execution_count": 4,
   "outputs": [
    {
     "data": {
      "text/plain": "<PIL.Image.Image image mode=L size=46x56>",
      "image/png": "[encoded data removed]",
      "image/jpeg": "[encoded data removed]"
     },
     "execution_count": 4,
     "metadata": {},
     "output_type": "execute_result"
    }
   ],
   "source": [
    "from PIL import Image\n",
    "your_matrix = np.squeeze(X[1,0])\n",
    "image = Image.fromarray(np.uint8(your_matrix * 255))\n",
    "image"
   ],
   "metadata": {
    "collapsed": false,
    "ExecuteTime": {
     "end_time": "2024-03-28T04:58:29.647099Z",
     "start_time": "2024-03-28T04:58:29.565870600Z"
    }
   }
  },
  {
   "cell_type": "code",
   "execution_count": 5,
   "outputs": [
    {
     "data": {
      "text/plain": "(20000, 1)"
     },
     "execution_count": 5,
     "metadata": {},
     "output_type": "execute_result"
    }
   ],
   "source": [
    "Y.shape"
   ],
   "metadata": {
    "collapsed": false,
    "ExecuteTime": {
     "end_time": "2024-03-28T04:58:29.648107900Z",
     "start_time": "2024-03-28T04:58:29.636304600Z"
    }
   }
  },
  {
   "cell_type": "code",
   "execution_count": 6,
   "outputs": [],
   "source": [
    "from sklearn.model_selection import train_test_split\n",
    "x_train, x_test, y_train, y_test = train_test_split(X, Y, test_size=.25)"
   ],
   "metadata": {
    "collapsed": false,
    "ExecuteTime": {
     "end_time": "2024-03-28T04:58:30.395565500Z",
     "start_time": "2024-03-28T04:58:29.640757300Z"
    }
   }
  },
  {
   "cell_type": "code",
   "execution_count": 7,
   "outputs": [
    {
     "data": {
      "text/plain": "(15000, 2, 1, 56, 46)"
     },
     "execution_count": 7,
     "metadata": {},
     "output_type": "execute_result"
    }
   ],
   "source": [
    "x_train.shape"
   ],
   "metadata": {
    "collapsed": false,
    "ExecuteTime": {
     "end_time": "2024-03-28T04:58:30.413837700Z",
     "start_time": "2024-03-28T04:58:30.390566200Z"
    }
   }
  },
  {
   "cell_type": "markdown",
   "source": [
    "# 网络搭建"
   ],
   "metadata": {
    "collapsed": false
   }
  },
  {
   "cell_type": "code",
   "execution_count": 8,
   "outputs": [],
   "source": [
    "from model.network import *\n",
    "\n",
    "input_dim = x_train.shape[2:]\n",
    "img_a = Input(shape=input_dim)\n",
    "img_b = Input(shape=input_dim)"
   ],
   "metadata": {
    "collapsed": false,
    "ExecuteTime": {
     "end_time": "2024-03-28T04:58:32.767020300Z",
     "start_time": "2024-03-28T04:58:30.405755200Z"
    }
   }
  },
  {
   "cell_type": "code",
   "execution_count": 9,
   "outputs": [
    {
     "data": {
      "text/plain": "TensorShape([None, 1, 56, 46])"
     },
     "execution_count": 9,
     "metadata": {},
     "output_type": "execute_result"
    }
   ],
   "source": [
    "img_a.shape"
   ],
   "metadata": {
    "collapsed": false,
    "ExecuteTime": {
     "end_time": "2024-03-28T04:58:32.782021300Z",
     "start_time": "2024-03-28T04:58:32.763023900Z"
    }
   }
  },
  {
   "cell_type": "code",
   "execution_count": 10,
   "outputs": [
    {
     "data": {
      "text/plain": "(1, 56, 46)"
     },
     "execution_count": 10,
     "metadata": {},
     "output_type": "execute_result"
    }
   ],
   "source": [
    "input_dim"
   ],
   "metadata": {
    "collapsed": false,
    "ExecuteTime": {
     "end_time": "2024-03-28T04:58:32.822086300Z",
     "start_time": "2024-03-28T04:58:32.778025100Z"
    }
   }
  },
  {
   "cell_type": "code",
   "execution_count": 11,
   "outputs": [],
   "source": [
    "# base_network = build_base_network(input_dim)\n",
    "base_network = build_base_network_with_senet(input_dim)\n",
    "feat_vecs_a = base_network(img_a)\n",
    "feat_vecs_b = base_network(img_b)"
   ],
   "metadata": {
    "collapsed": false,
    "ExecuteTime": {
     "end_time": "2024-03-28T04:58:34.790267200Z",
     "start_time": "2024-03-28T04:58:32.793025500Z"
    }
   }
  },
  {
   "cell_type": "code",
   "execution_count": 12,
   "outputs": [
    {
     "data": {
      "text/plain": "<KerasTensor: shape=(None, 50) dtype=float32 (created by layer 'model')>"
     },
     "execution_count": 12,
     "metadata": {},
     "output_type": "execute_result"
    }
   ],
   "source": [
    "feat_vecs_a"
   ],
   "metadata": {
    "collapsed": false,
    "ExecuteTime": {
     "end_time": "2024-03-28T04:58:34.806160100Z",
     "start_time": "2024-03-28T04:58:34.791271300Z"
    }
   }
  },
  {
   "cell_type": "markdown",
   "source": [
    "# 距离函数"
   ],
   "metadata": {
    "collapsed": false
   }
  },
  {
   "cell_type": "code",
   "execution_count": 13,
   "outputs": [],
   "source": [
    "from distance_function import *\n",
    "# 使用欧式距离\n",
    "# distance = EuclideanDistanceLayer()([feat_vecs_a, feat_vecs_b])\n",
    "# 使用马氏距离\n",
    "inverse_covariance = np.eye(50)\n",
    "distance = MahalanobisDistanceLayer(inverse_covariance)([feat_vecs_a, feat_vecs_b])"
   ],
   "metadata": {
    "collapsed": false,
    "ExecuteTime": {
     "end_time": "2024-03-28T04:58:34.869888400Z",
     "start_time": "2024-03-28T04:58:34.807162100Z"
    }
   }
  },
  {
   "cell_type": "code",
   "execution_count": 14,
   "outputs": [],
   "source": [
    "from keras.models import Model\n",
    "model = Model(inputs=[img_a, img_b], outputs=distance)"
   ],
   "metadata": {
    "collapsed": false,
    "ExecuteTime": {
     "end_time": "2024-03-28T04:58:34.884572300Z",
     "start_time": "2024-03-28T04:58:34.870888200Z"
    }
   }
  },
  {
   "cell_type": "markdown",
   "source": [
    "# 优化器与损失函数"
   ],
   "metadata": {
    "collapsed": false
   }
  },
  {
   "cell_type": "code",
   "execution_count": 15,
   "outputs": [],
   "source": [
    "import tensorflow as tf\n",
    "\n",
    "def compute_accuracy(predictions, labels):\n",
    "    predictions = tf.reshape(predictions, [-1])  # 将预测结果展平\n",
    "    a = tf.reduce_mean(tf.cast(labels[predictions < 0.5], dtype=tf.float32))\n",
    "    return tf.where(a > 1, tf.ones_like(a), a)"
   ],
   "metadata": {
    "collapsed": false,
    "ExecuteTime": {
     "end_time": "2024-03-28T04:58:34.903272800Z",
     "start_time": "2024-03-28T04:58:34.885917300Z"
    }
   }
  },
  {
   "cell_type": "code",
   "execution_count": 16,
   "outputs": [],
   "source": [
    "# 优化器\n",
    "from keras.optimizers import RMSprop, SGD, Adam\n",
    "\n",
    "# 损失函数\n",
    "def contrastive_loss(y_true, y_pred):\n",
    "    margin = 1\n",
    "    return K.mean(y_true * K.square(y_pred) + (1 - y_true) * K.square(K.maximum(margin - y_pred, 0)))"
   ],
   "metadata": {
    "collapsed": false,
    "ExecuteTime": {
     "end_time": "2024-03-28T04:58:34.916235Z",
     "start_time": "2024-03-28T04:58:34.901222Z"
    }
   }
  },
  {
   "cell_type": "code",
   "execution_count": 17,
   "outputs": [
    {
     "name": "stdout",
     "output_type": "stream",
     "text": [
      "Model: \"model_1\"\n",
      "__________________________________________________________________________________________________\n",
      " Layer (type)                   Output Shape         Param #     Connected to                     \n",
      "==================================================================================================\n",
      " input_1 (InputLayer)           [(None, 1, 56, 46)]  0           []                               \n",
      "                                                                                                  \n",
      " input_2 (InputLayer)           [(None, 1, 56, 46)]  0           []                               \n",
      "                                                                                                  \n",
      " model (Functional)             (None, 50)           394390      ['input_1[0][0]',                \n",
      "                                                                  'input_2[0][0]']                \n",
      "                                                                                                  \n",
      " mahalanobis_distance_layer (Ma  (None, 1)           0           ['model[0][0]',                  \n",
      " halanobisDistanceLayer)                                          'model[1][0]']                  \n",
      "                                                                                                  \n",
      "==================================================================================================\n",
      "Total params: 394,390\n",
      "Trainable params: 394,390\n",
      "Non-trainable params: 0\n",
      "__________________________________________________________________________________________________\n"
     ]
    }
   ],
   "source": [
    "# RMSprop(learning_rate=0.001)/SGD(learning_rate=0.0001)/\n",
    "model.compile(loss=contrastive_loss, optimizer=Adam(learning_rate=0.001),\n",
    "              metrics=[compute_accuracy])\n",
    "model.summary()"
   ],
   "metadata": {
    "collapsed": false,
    "ExecuteTime": {
     "end_time": "2024-03-28T04:58:34.973306400Z",
     "start_time": "2024-03-28T04:58:34.917556100Z"
    }
   }
  },
  {
   "cell_type": "markdown",
   "source": [
    "# 模型训练"
   ],
   "metadata": {
    "collapsed": false
   }
  },
  {
   "cell_type": "code",
   "execution_count": 18,
   "outputs": [],
   "source": [
    "img_1 = x_train[:, 0]\n",
    "img2 = x_train[:, 1]"
   ],
   "metadata": {
    "collapsed": false,
    "ExecuteTime": {
     "end_time": "2024-03-28T04:58:34.973306400Z",
     "start_time": "2024-03-28T04:58:34.960352400Z"
    }
   }
  },
  {
   "cell_type": "code",
   "execution_count": 19,
   "outputs": [
    {
     "data": {
      "text/plain": "(15000, 1, 56, 46)"
     },
     "execution_count": 19,
     "metadata": {},
     "output_type": "execute_result"
    }
   ],
   "source": [
    "img_1.shape"
   ],
   "metadata": {
    "collapsed": false,
    "ExecuteTime": {
     "end_time": "2024-03-28T04:58:34.983531600Z",
     "start_time": "2024-03-28T04:58:34.962447500Z"
    }
   }
  },
  {
   "cell_type": "code",
   "execution_count": 20,
   "outputs": [
    {
     "name": "stdout",
     "output_type": "stream",
     "text": [
      "Epoch 1/30\n",
      "94/94 [==============================] - 15s 32ms/step - loss: 0.1716 - compute_accuracy: 0.7086 - val_loss: 0.1547 - val_compute_accuracy: 0.5220\n",
      "Epoch 2/30\n",
      "94/94 [==============================] - 2s 20ms/step - loss: 0.1064 - compute_accuracy: 0.8791 - val_loss: 0.1233 - val_compute_accuracy: 0.5745\n",
      "Epoch 3/30\n",
      "94/94 [==============================] - 2s 19ms/step - loss: 0.0831 - compute_accuracy: 0.9347 - val_loss: 0.0995 - val_compute_accuracy: 0.6393\n",
      "Epoch 4/30\n",
      "94/94 [==============================] - 2s 19ms/step - loss: 0.0704 - compute_accuracy: 0.9697 - val_loss: 0.0775 - val_compute_accuracy: 0.7149\n",
      "Epoch 5/30\n",
      "94/94 [==============================] - 2s 19ms/step - loss: 0.0629 - compute_accuracy: 0.9811 - val_loss: 0.0679 - val_compute_accuracy: 0.7545\n",
      "Epoch 6/30\n",
      "94/94 [==============================] - 2s 19ms/step - loss: 0.0569 - compute_accuracy: 0.9952 - val_loss: 0.0606 - val_compute_accuracy: 0.7864\n",
      "Epoch 7/30\n",
      "94/94 [==============================] - 2s 19ms/step - loss: 0.0525 - compute_accuracy: 0.9944 - val_loss: 0.0545 - val_compute_accuracy: 0.8155\n",
      "Epoch 8/30\n",
      "94/94 [==============================] - 2s 19ms/step - loss: 0.0493 - compute_accuracy: 0.9978 - val_loss: 0.0395 - val_compute_accuracy: 0.9324\n",
      "Epoch 9/30\n",
      "94/94 [==============================] - 2s 19ms/step - loss: 0.0453 - compute_accuracy: 0.9999 - val_loss: 0.0417 - val_compute_accuracy: 0.8945\n",
      "Epoch 10/30\n",
      "94/94 [==============================] - 2s 19ms/step - loss: 0.0427 - compute_accuracy: 0.9995 - val_loss: 0.0373 - val_compute_accuracy: 0.9259\n",
      "Epoch 11/30\n",
      "94/94 [==============================] - 2s 19ms/step - loss: 0.0402 - compute_accuracy: 1.0000 - val_loss: 0.0331 - val_compute_accuracy: 0.9654\n",
      "Epoch 12/30\n",
      "94/94 [==============================] - 2s 19ms/step - loss: 0.0380 - compute_accuracy: 1.0000 - val_loss: 0.0356 - val_compute_accuracy: 0.9266\n",
      "Epoch 13/30\n",
      "94/94 [==============================] - 2s 19ms/step - loss: 0.0371 - compute_accuracy: 1.0000 - val_loss: 0.0352 - val_compute_accuracy: 0.9231\n",
      "Epoch 14/30\n",
      "94/94 [==============================] - 2s 19ms/step - loss: 0.0352 - compute_accuracy: 1.0000 - val_loss: 0.0324 - val_compute_accuracy: 0.9487\n",
      "Epoch 15/30\n",
      "94/94 [==============================] - 2s 19ms/step - loss: 0.0326 - compute_accuracy: 1.0000 - val_loss: 0.0311 - val_compute_accuracy: 0.9612\n",
      "Epoch 16/30\n",
      "94/94 [==============================] - 2s 19ms/step - loss: 0.0315 - compute_accuracy: 1.0000 - val_loss: 0.0276 - val_compute_accuracy: 0.9798\n",
      "Epoch 17/30\n",
      "94/94 [==============================] - 2s 19ms/step - loss: 0.0303 - compute_accuracy: 1.0000 - val_loss: 0.0276 - val_compute_accuracy: 0.9791\n",
      "Epoch 18/30\n",
      "94/94 [==============================] - 2s 19ms/step - loss: 0.0296 - compute_accuracy: 1.0000 - val_loss: 0.0243 - val_compute_accuracy: 0.9953\n",
      "Epoch 19/30\n",
      "94/94 [==============================] - 2s 19ms/step - loss: 0.0284 - compute_accuracy: 1.0000 - val_loss: 0.0248 - val_compute_accuracy: 0.9923\n",
      "Epoch 20/30\n",
      "94/94 [==============================] - 2s 20ms/step - loss: 0.0278 - compute_accuracy: 1.0000 - val_loss: 0.0231 - val_compute_accuracy: 0.9960\n",
      "Epoch 21/30\n",
      "94/94 [==============================] - 2s 19ms/step - loss: 0.0263 - compute_accuracy: 1.0000 - val_loss: 0.0221 - val_compute_accuracy: 0.9978\n",
      "Epoch 22/30\n",
      "94/94 [==============================] - 2s 19ms/step - loss: 0.0251 - compute_accuracy: 1.0000 - val_loss: 0.0186 - val_compute_accuracy: 1.0000\n",
      "Epoch 23/30\n",
      "94/94 [==============================] - 2s 19ms/step - loss: 0.0244 - compute_accuracy: 1.0000 - val_loss: 0.0204 - val_compute_accuracy: 0.9997\n",
      "Epoch 24/30\n",
      "94/94 [==============================] - 2s 19ms/step - loss: 0.0240 - compute_accuracy: 1.0000 - val_loss: 0.0190 - val_compute_accuracy: 1.0000\n",
      "Epoch 25/30\n",
      "94/94 [==============================] - 2s 19ms/step - loss: 0.0233 - compute_accuracy: 1.0000 - val_loss: 0.0233 - val_compute_accuracy: 0.9965\n",
      "Epoch 26/30\n",
      "94/94 [==============================] - 2s 19ms/step - loss: 0.0225 - compute_accuracy: 1.0000 - val_loss: 0.0185 - val_compute_accuracy: 1.0000\n",
      "Epoch 27/30\n",
      "94/94 [==============================] - 2s 19ms/step - loss: 0.0216 - compute_accuracy: 1.0000 - val_loss: 0.0212 - val_compute_accuracy: 0.9997\n",
      "Epoch 28/30\n",
      "94/94 [==============================] - 2s 20ms/step - loss: 0.0210 - compute_accuracy: 1.0000 - val_loss: 0.0164 - val_compute_accuracy: 1.0000\n",
      "Epoch 29/30\n",
      "94/94 [==============================] - 2s 20ms/step - loss: 0.0203 - compute_accuracy: 1.0000 - val_loss: 0.0182 - val_compute_accuracy: 1.0000\n",
      "Epoch 30/30\n",
      "94/94 [==============================] - 2s 20ms/step - loss: 0.0194 - compute_accuracy: 1.0000 - val_loss: 0.0156 - val_compute_accuracy: 1.0000\n"
     ]
    }
   ],
   "source": [
    "history = model.fit([img_1, img2], y_train, validation_split=.2, epochs=30, batch_size=128, verbose=1)"
   ],
   "metadata": {
    "collapsed": false,
    "ExecuteTime": {
     "end_time": "2024-03-28T04:59:43.132645800Z",
     "start_time": "2024-03-28T04:58:34.979531200Z"
    }
   }
  },
  {
   "cell_type": "markdown",
   "source": [
    "# 可视化分析"
   ],
   "metadata": {
    "collapsed": false
   }
  },
  {
   "cell_type": "code",
   "execution_count": 21,
   "outputs": [
    {
     "data": {
      "text/plain": "<Figure size 1200x400 with 2 Axes>",
      "image/png": "[encoded data removed]"
     },
     "metadata": {},
     "output_type": "display_data"
    }
   ],
   "source": [
    "import matplotlib.pyplot as plt\n",
    "\n",
    "# 画出损失曲线\n",
    "plt.figure(figsize=(12, 4))\n",
    "\n",
    "# 画出训练损失\n",
    "plt.subplot(1, 2, 1)\n",
    "plt.plot(history.history['loss'], label='Training Loss')\n",
    "plt.plot(history.history['val_loss'], label='Validation Loss')\n",
    "plt.title('Training and Validation Loss')\n",
    "plt.xlabel('Epoch')\n",
    "plt.ylabel('Loss')\n",
    "plt.legend()\n",
    "\n",
    "# 画出准确率曲线\n",
    "plt.subplot(1, 2, 2)\n",
    "plt.plot(history.history['compute_accuracy'], label='Training Accuracy')\n",
    "plt.plot(history.history['val_compute_accuracy'], label='Validation Accuracy')\n",
    "plt.title('Training and Validation Accuracy')\n",
    "plt.xlabel('Epoch')\n",
    "plt.ylabel('Accuracy')\n",
    "plt.legend()\n",
    "\n",
    "plt.tight_layout()\n",
    "# plt.savefig('/kaggle/working/img.png')\n",
    "plt.show()"
   ],
   "metadata": {
    "collapsed": false,
    "ExecuteTime": {
     "end_time": "2024-03-28T04:59:44.121216700Z",
     "start_time": "2024-03-28T04:59:43.137646700Z"
    }
   }
  },
  {
   "cell_type": "markdown",
   "source": [
    "# 训练集测试"
   ],
   "metadata": {
    "collapsed": false
   }
  },
  {
   "cell_type": "code",
   "execution_count": 22,
   "outputs": [
    {
     "name": "stdout",
     "output_type": "stream",
     "text": [
      "157/157 [==============================] - 2s 6ms/step\n"
     ]
    }
   ],
   "source": [
    "pred = model.predict([x_test[:, 0], x_test[:, 1]])\n",
    "def compute_accuracy_2(predictions, labels):\n",
    "    return labels[predictions.ravel() < 0.5].mean()"
   ],
   "metadata": {
    "collapsed": false,
    "ExecuteTime": {
     "end_time": "2024-03-28T04:59:46.363160100Z",
     "start_time": "2024-03-28T04:59:44.119215600Z"
    }
   }
  },
  {
   "cell_type": "code",
   "execution_count": 23,
   "outputs": [
    {
     "data": {
      "text/plain": "0.966756861229223"
     },
     "execution_count": 23,
     "metadata": {},
     "output_type": "execute_result"
    }
   ],
   "source": [
    "compute_accuracy_2(pred, y_test)"
   ],
   "metadata": {
    "collapsed": false,
    "ExecuteTime": {
     "end_time": "2024-03-28T04:59:46.379169600Z",
     "start_time": "2024-03-28T04:59:46.363160100Z"
    }
   }
  },
  {
   "cell_type": "code",
   "execution_count": 23,
   "outputs": [],
   "source": [],
   "metadata": {
    "collapsed": false,
    "ExecuteTime": {
     "end_time": "2024-03-28T04:59:46.421176700Z",
     "start_time": "2024-03-28T04:59:46.378169800Z"
    }
   }
  }
 ],
 "metadata": {
  "kernelspec": {
   "display_name": "Python 3",
   "language": "python",
   "name": "python3"
  },
  "language_info": {
   "codemirror_mode": {
    "name": "ipython",
    "version": 2
   },
   "file_extension": ".py",
   "mimetype": "text/x-python",
   "name": "python",
   "nbconvert_exporter": "python",
   "pygments_lexer": "ipython2",
   "version": "2.7.6"
  }
 },
 "nbformat": 4,
 "nbformat_minor": 0
}
