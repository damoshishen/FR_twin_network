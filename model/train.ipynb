{
 "cells": [
  {
   "cell_type": "markdown",
   "source": [
    "# 导入数据及预处理"
   ],
   "metadata": {
    "collapsed": false
   }
  },
  {
   "cell_type": "code",
   "execution_count": 1,
   "outputs": [],
   "source": [
    "from data_process.Image_pair_creation import *\n",
    "\n",
    "X, Y = get_data_from_npy(size=2, total_sample_size=10000)"
   ],
   "metadata": {
    "collapsed": false,
    "ExecuteTime": {
     "end_time": "2024-04-01T11:15:59.839761100Z",
     "start_time": "2024-04-01T11:15:58.231757800Z"
    }
   }
  },
  {
   "cell_type": "code",
   "execution_count": 2,
   "outputs": [
    {
     "data": {
      "text/plain": "(20000, 2, 1, 56, 46)"
     },
     "execution_count": 2,
     "metadata": {},
     "output_type": "execute_result"
    }
   ],
   "source": [
    "X.shape"
   ],
   "metadata": {
    "collapsed": false,
    "ExecuteTime": {
     "end_time": "2024-04-01T11:15:59.855748400Z",
     "start_time": "2024-04-01T11:15:59.839761100Z"
    }
   }
  },
  {
   "cell_type": "code",
   "execution_count": 3,
   "outputs": [
    {
     "data": {
      "text/plain": "(1, 56, 46)"
     },
     "execution_count": 3,
     "metadata": {},
     "output_type": "execute_result"
    }
   ],
   "source": [
    "X[1,0].shape"
   ],
   "metadata": {
    "collapsed": false,
    "ExecuteTime": {
     "end_time": "2024-04-01T11:15:59.934045300Z",
     "start_time": "2024-04-01T11:15:59.855748400Z"
    }
   }
  },
  {
   "cell_type": "code",
   "execution_count": 4,
   "outputs": [
    {
     "data": {
      "text/plain": "<PIL.Image.Image image mode=L size=46x56>",
      "image/png": "[encoded data removed]",
      "image/jpeg": "[encoded data removed]"
     },
     "execution_count": 4,
     "metadata": {},
     "output_type": "execute_result"
    }
   ],
   "source": [
    "from PIL import Image\n",
    "your_matrix = np.squeeze(X[1,0])\n",
    "image = Image.fromarray(np.uint8(your_matrix * 255))\n",
    "image"
   ],
   "metadata": {
    "collapsed": false,
    "ExecuteTime": {
     "end_time": "2024-04-01T11:15:59.996542Z",
     "start_time": "2024-04-01T11:15:59.871383900Z"
    }
   }
  },
  {
   "cell_type": "code",
   "execution_count": 5,
   "outputs": [
    {
     "data": {
      "text/plain": "(20000, 1)"
     },
     "execution_count": 5,
     "metadata": {},
     "output_type": "execute_result"
    }
   ],
   "source": [
    "Y.shape"
   ],
   "metadata": {
    "collapsed": false,
    "ExecuteTime": {
     "end_time": "2024-04-01T11:16:00.013645100Z",
     "start_time": "2024-04-01T11:15:59.996542Z"
    }
   }
  },
  {
   "cell_type": "code",
   "execution_count": 6,
   "outputs": [],
   "source": [
    "from sklearn.model_selection import train_test_split\n",
    "x_train, x_test, y_train, y_test = train_test_split(X, Y, test_size=.25)"
   ],
   "metadata": {
    "collapsed": false,
    "ExecuteTime": {
     "end_time": "2024-04-01T11:16:04.275838500Z",
     "start_time": "2024-04-01T11:16:00.013645100Z"
    }
   }
  },
  {
   "cell_type": "code",
   "execution_count": 7,
   "outputs": [
    {
     "data": {
      "text/plain": "(15000, 2, 1, 56, 46)"
     },
     "execution_count": 7,
     "metadata": {},
     "output_type": "execute_result"
    }
   ],
   "source": [
    "x_train.shape"
   ],
   "metadata": {
    "collapsed": false,
    "ExecuteTime": {
     "end_time": "2024-04-01T11:16:04.291473200Z",
     "start_time": "2024-04-01T11:16:04.275838500Z"
    }
   }
  },
  {
   "cell_type": "markdown",
   "source": [
    "# 网络搭建"
   ],
   "metadata": {
    "collapsed": false
   }
  },
  {
   "cell_type": "code",
   "execution_count": 8,
   "outputs": [],
   "source": [
    "from model.network import *\n",
    "\n",
    "input_dim = x_train.shape[2:]\n",
    "img_a = Input(shape=input_dim)\n",
    "img_b = Input(shape=input_dim)"
   ],
   "metadata": {
    "collapsed": false,
    "ExecuteTime": {
     "end_time": "2024-04-01T11:16:11.644287100Z",
     "start_time": "2024-04-01T11:16:04.291473200Z"
    }
   }
  },
  {
   "cell_type": "code",
   "execution_count": 9,
   "outputs": [
    {
     "data": {
      "text/plain": "TensorShape([None, 1, 56, 46])"
     },
     "execution_count": 9,
     "metadata": {},
     "output_type": "execute_result"
    }
   ],
   "source": [
    "img_a.shape"
   ],
   "metadata": {
    "collapsed": false,
    "ExecuteTime": {
     "end_time": "2024-04-01T11:16:11.662692200Z",
     "start_time": "2024-04-01T11:16:11.644287100Z"
    }
   }
  },
  {
   "cell_type": "code",
   "execution_count": 10,
   "outputs": [
    {
     "data": {
      "text/plain": "(1, 56, 46)"
     },
     "execution_count": 10,
     "metadata": {},
     "output_type": "execute_result"
    }
   ],
   "source": [
    "input_dim"
   ],
   "metadata": {
    "collapsed": false,
    "ExecuteTime": {
     "end_time": "2024-04-01T11:16:11.707131900Z",
     "start_time": "2024-04-01T11:16:11.662692200Z"
    }
   }
  },
  {
   "cell_type": "code",
   "execution_count": 11,
   "outputs": [],
   "source": [
    "# base_network = build_base_network(input_dim)\n",
    "base_network = build_base_network_with_senet(input_dim)\n",
    "feat_vecs_a = base_network(img_a)\n",
    "feat_vecs_b = base_network(img_b)"
   ],
   "metadata": {
    "collapsed": false,
    "ExecuteTime": {
     "end_time": "2024-04-01T11:16:16.191222900Z",
     "start_time": "2024-04-01T11:16:11.676322700Z"
    }
   }
  },
  {
   "cell_type": "code",
   "execution_count": 12,
   "outputs": [
    {
     "data": {
      "text/plain": "<KerasTensor: shape=(None, 50) dtype=float32 (created by layer 'model')>"
     },
     "execution_count": 12,
     "metadata": {},
     "output_type": "execute_result"
    }
   ],
   "source": [
    "feat_vecs_a"
   ],
   "metadata": {
    "collapsed": false,
    "ExecuteTime": {
     "end_time": "2024-04-01T11:16:16.206723400Z",
     "start_time": "2024-04-01T11:16:16.191222900Z"
    }
   }
  },
  {
   "cell_type": "markdown",
   "source": [
    "# 距离函数"
   ],
   "metadata": {
    "collapsed": false
   }
  },
  {
   "cell_type": "code",
   "execution_count": 13,
   "outputs": [],
   "source": [
    "from distance_function import *\n",
    "# 使用欧式距离\n",
    "# distance = EuclideanDistanceLayer()([feat_vecs_a, feat_vecs_b])\n",
    "# 使用马氏距离\n",
    "inverse_covariance = np.eye(50)\n",
    "distance = MahalanobisDistanceLayer(inverse_covariance)([feat_vecs_a, feat_vecs_b])"
   ],
   "metadata": {
    "collapsed": false,
    "ExecuteTime": {
     "end_time": "2024-04-01T11:16:16.268073300Z",
     "start_time": "2024-04-01T11:16:16.206723400Z"
    }
   }
  },
  {
   "cell_type": "code",
   "execution_count": 14,
   "outputs": [],
   "source": [
    "from keras.models import Model\n",
    "model = Model(inputs=[img_a, img_b], outputs=distance)"
   ],
   "metadata": {
    "collapsed": false,
    "ExecuteTime": {
     "end_time": "2024-04-01T11:16:16.283877700Z",
     "start_time": "2024-04-01T11:16:16.275871100Z"
    }
   }
  },
  {
   "cell_type": "markdown",
   "source": [
    "# 优化器与损失函数"
   ],
   "metadata": {
    "collapsed": false
   }
  },
  {
   "cell_type": "code",
   "execution_count": 15,
   "outputs": [],
   "source": [
    "import tensorflow as tf\n",
    "\n",
    "def compute_accuracy(predictions, labels):\n",
    "    predictions = tf.reshape(predictions, [-1])  # 将预测结果展平\n",
    "    a = tf.reduce_mean(tf.cast(labels[predictions < 0.5], dtype=tf.float32))\n",
    "    return tf.where(a > 1, tf.ones_like(a), a)"
   ],
   "metadata": {
    "collapsed": false,
    "ExecuteTime": {
     "end_time": "2024-04-01T11:16:16.303467600Z",
     "start_time": "2024-04-01T11:16:16.283877700Z"
    }
   }
  },
  {
   "cell_type": "code",
   "execution_count": 16,
   "outputs": [],
   "source": [
    "# 优化器\n",
    "from keras.optimizers import RMSprop, SGD, Adam\n",
    "\n",
    "# 损失函数\n",
    "def contrastive_loss(y_true, y_pred):\n",
    "    margin = 1\n",
    "    return K.mean(y_true * K.square(y_pred) + (1 - y_true) * K.square(K.maximum(margin - y_pred, 0)))"
   ],
   "metadata": {
    "collapsed": false,
    "ExecuteTime": {
     "end_time": "2024-04-01T11:16:16.315078300Z",
     "start_time": "2024-04-01T11:16:16.303467600Z"
    }
   }
  },
  {
   "cell_type": "code",
   "execution_count": 17,
   "outputs": [
    {
     "name": "stdout",
     "output_type": "stream",
     "text": [
      "Model: \"model_1\"\n",
      "__________________________________________________________________________________________________\n",
      " Layer (type)                   Output Shape         Param #     Connected to                     \n",
      "==================================================================================================\n",
      " input_1 (InputLayer)           [(None, 1, 56, 46)]  0           []                               \n",
      "                                                                                                  \n",
      " input_2 (InputLayer)           [(None, 1, 56, 46)]  0           []                               \n",
      "                                                                                                  \n",
      " model (Functional)             (None, 50)           394390      ['input_1[0][0]',                \n",
      "                                                                  'input_2[0][0]']                \n",
      "                                                                                                  \n",
      " mahalanobis_distance_layer (Ma  (None, 1)           0           ['model[0][0]',                  \n",
      " halanobisDistanceLayer)                                          'model[1][0]']                  \n",
      "                                                                                                  \n",
      "==================================================================================================\n",
      "Total params: 394,390\n",
      "Trainable params: 394,390\n",
      "Non-trainable params: 0\n",
      "__________________________________________________________________________________________________\n"
     ]
    }
   ],
   "source": [
    "# RMSprop(learning_rate=0.001)/SGD(learning_rate=0.0001)/\n",
    "model.compile(loss=contrastive_loss, optimizer=Adam(learning_rate=0.001),\n",
    "              metrics=[compute_accuracy])\n",
    "model.summary()"
   ],
   "metadata": {
    "collapsed": false,
    "ExecuteTime": {
     "end_time": "2024-04-01T11:16:16.368863200Z",
     "start_time": "2024-04-01T11:16:16.315078300Z"
    }
   }
  },
  {
   "cell_type": "markdown",
   "source": [
    "# 模型训练"
   ],
   "metadata": {
    "collapsed": false
   }
  },
  {
   "cell_type": "code",
   "execution_count": 18,
   "outputs": [],
   "source": [
    "img_1 = x_train[:, 0]\n",
    "img2 = x_train[:, 1]"
   ],
   "metadata": {
    "collapsed": false,
    "ExecuteTime": {
     "end_time": "2024-04-01T11:16:16.368863200Z",
     "start_time": "2024-04-01T11:16:16.362326900Z"
    }
   }
  },
  {
   "cell_type": "code",
   "execution_count": 19,
   "outputs": [
    {
     "data": {
      "text/plain": "(15000, 1, 56, 46)"
     },
     "execution_count": 19,
     "metadata": {},
     "output_type": "execute_result"
    }
   ],
   "source": [
    "img_1.shape"
   ],
   "metadata": {
    "collapsed": false,
    "ExecuteTime": {
     "end_time": "2024-04-01T11:16:16.378380700Z",
     "start_time": "2024-04-01T11:16:16.366007300Z"
    }
   }
  },
  {
   "cell_type": "code",
   "execution_count": 20,
   "outputs": [
    {
     "name": "stdout",
     "output_type": "stream",
     "text": [
      "Epoch 1/40\n",
      "94/94 [==============================] - 15s 27ms/step - loss: 0.1740 - compute_accuracy: 0.7060 - val_loss: 0.1950 - val_compute_accuracy: 0.4260\n",
      "Epoch 2/40\n",
      "94/94 [==============================] - 2s 20ms/step - loss: 0.1235 - compute_accuracy: 0.8410 - val_loss: 0.2120 - val_compute_accuracy: 0.3801\n",
      "Epoch 3/40\n",
      "94/94 [==============================] - 2s 19ms/step - loss: 0.1035 - compute_accuracy: 0.8921 - val_loss: 0.1362 - val_compute_accuracy: 0.5360\n",
      "Epoch 4/40\n",
      "94/94 [==============================] - 2s 20ms/step - loss: 0.0846 - compute_accuracy: 0.9437 - val_loss: 0.1419 - val_compute_accuracy: 0.5126\n",
      "Epoch 5/40\n",
      "94/94 [==============================] - 2s 20ms/step - loss: 0.0714 - compute_accuracy: 0.9785 - val_loss: 0.1272 - val_compute_accuracy: 0.5467\n",
      "Epoch 6/40\n",
      "94/94 [==============================] - 2s 19ms/step - loss: 0.0628 - compute_accuracy: 0.9918 - val_loss: 0.0841 - val_compute_accuracy: 0.6905\n",
      "Epoch 7/40\n",
      "94/94 [==============================] - 2s 19ms/step - loss: 0.0558 - compute_accuracy: 0.9978 - val_loss: 0.0676 - val_compute_accuracy: 0.7516\n",
      "Epoch 8/40\n",
      "94/94 [==============================] - 2s 20ms/step - loss: 0.0500 - compute_accuracy: 0.9994 - val_loss: 0.0756 - val_compute_accuracy: 0.7106\n",
      "Epoch 9/40\n",
      "94/94 [==============================] - 2s 19ms/step - loss: 0.0466 - compute_accuracy: 0.9998 - val_loss: 0.0483 - val_compute_accuracy: 0.8623\n",
      "Epoch 10/40\n",
      "94/94 [==============================] - 2s 20ms/step - loss: 0.0436 - compute_accuracy: 1.0000 - val_loss: 0.0485 - val_compute_accuracy: 0.8447\n",
      "Epoch 11/40\n",
      "94/94 [==============================] - 2s 19ms/step - loss: 0.0402 - compute_accuracy: 1.0000 - val_loss: 0.0450 - val_compute_accuracy: 0.8726\n",
      "Epoch 12/40\n",
      "94/94 [==============================] - 2s 19ms/step - loss: 0.0373 - compute_accuracy: 1.0000 - val_loss: 0.0405 - val_compute_accuracy: 0.8993\n",
      "Epoch 13/40\n",
      "94/94 [==============================] - 2s 19ms/step - loss: 0.0356 - compute_accuracy: 1.0000 - val_loss: 0.0430 - val_compute_accuracy: 0.8844\n",
      "Epoch 14/40\n",
      "94/94 [==============================] - 2s 19ms/step - loss: 0.0333 - compute_accuracy: 1.0000 - val_loss: 0.0319 - val_compute_accuracy: 0.9717\n",
      "Epoch 15/40\n",
      "94/94 [==============================] - 2s 19ms/step - loss: 0.0318 - compute_accuracy: 1.0000 - val_loss: 0.0326 - val_compute_accuracy: 0.9628\n",
      "Epoch 16/40\n",
      "94/94 [==============================] - 2s 19ms/step - loss: 0.0297 - compute_accuracy: 1.0000 - val_loss: 0.0319 - val_compute_accuracy: 0.9707\n",
      "Epoch 17/40\n",
      "94/94 [==============================] - 2s 20ms/step - loss: 0.0284 - compute_accuracy: 1.0000 - val_loss: 0.0251 - val_compute_accuracy: 0.9976\n",
      "Epoch 18/40\n",
      "94/94 [==============================] - 2s 19ms/step - loss: 0.0265 - compute_accuracy: 1.0000 - val_loss: 0.0242 - val_compute_accuracy: 0.9986\n",
      "Epoch 19/40\n",
      "94/94 [==============================] - 2s 19ms/step - loss: 0.0254 - compute_accuracy: 1.0000 - val_loss: 0.0231 - val_compute_accuracy: 0.9989\n",
      "Epoch 20/40\n",
      "94/94 [==============================] - 2s 20ms/step - loss: 0.0244 - compute_accuracy: 1.0000 - val_loss: 0.0195 - val_compute_accuracy: 1.0000\n",
      "Epoch 21/40\n",
      "94/94 [==============================] - 2s 20ms/step - loss: 0.0233 - compute_accuracy: 1.0000 - val_loss: 0.0211 - val_compute_accuracy: 1.0000\n",
      "Epoch 22/40\n",
      "94/94 [==============================] - 2s 20ms/step - loss: 0.0221 - compute_accuracy: 1.0000 - val_loss: 0.0177 - val_compute_accuracy: 1.0000\n",
      "Epoch 23/40\n",
      "94/94 [==============================] - 2s 20ms/step - loss: 0.0211 - compute_accuracy: 1.0000 - val_loss: 0.0188 - val_compute_accuracy: 1.0000\n",
      "Epoch 24/40\n",
      "94/94 [==============================] - 2s 20ms/step - loss: 0.0202 - compute_accuracy: 1.0000 - val_loss: 0.0200 - val_compute_accuracy: 1.0000\n",
      "Epoch 25/40\n",
      "94/94 [==============================] - 2s 21ms/step - loss: 0.0197 - compute_accuracy: 1.0000 - val_loss: 0.0220 - val_compute_accuracy: 1.0000\n",
      "Epoch 26/40\n",
      "94/94 [==============================] - 2s 20ms/step - loss: 0.0184 - compute_accuracy: 1.0000 - val_loss: 0.0148 - val_compute_accuracy: 1.0000\n",
      "Epoch 27/40\n",
      "94/94 [==============================] - 2s 19ms/step - loss: 0.0177 - compute_accuracy: 1.0000 - val_loss: 0.0148 - val_compute_accuracy: 1.0000\n",
      "Epoch 28/40\n",
      "94/94 [==============================] - 2s 20ms/step - loss: 0.0172 - compute_accuracy: 1.0000 - val_loss: 0.0124 - val_compute_accuracy: 1.0000\n",
      "Epoch 29/40\n",
      "94/94 [==============================] - 2s 19ms/step - loss: 0.0165 - compute_accuracy: 1.0000 - val_loss: 0.0120 - val_compute_accuracy: 1.0000\n",
      "Epoch 30/40\n",
      "94/94 [==============================] - 2s 20ms/step - loss: 0.0157 - compute_accuracy: 1.0000 - val_loss: 0.0134 - val_compute_accuracy: 1.0000\n",
      "Epoch 31/40\n",
      "94/94 [==============================] - 2s 20ms/step - loss: 0.0154 - compute_accuracy: 1.0000 - val_loss: 0.0154 - val_compute_accuracy: 1.0000\n",
      "Epoch 32/40\n",
      "94/94 [==============================] - 2s 19ms/step - loss: 0.0147 - compute_accuracy: 1.0000 - val_loss: 0.0160 - val_compute_accuracy: 1.0000\n",
      "Epoch 33/40\n",
      "94/94 [==============================] - 2s 19ms/step - loss: 0.0144 - compute_accuracy: 1.0000 - val_loss: 0.0102 - val_compute_accuracy: 1.0000\n",
      "Epoch 34/40\n",
      "94/94 [==============================] - 2s 20ms/step - loss: 0.0137 - compute_accuracy: 1.0000 - val_loss: 0.0136 - val_compute_accuracy: 1.0000\n",
      "Epoch 35/40\n",
      "94/94 [==============================] - 2s 21ms/step - loss: 0.0139 - compute_accuracy: 1.0000 - val_loss: 0.0107 - val_compute_accuracy: 1.0000\n",
      "Epoch 36/40\n",
      "94/94 [==============================] - 2s 20ms/step - loss: 0.0126 - compute_accuracy: 1.0000 - val_loss: 0.0130 - val_compute_accuracy: 1.0000\n",
      "Epoch 37/40\n",
      "94/94 [==============================] - 2s 19ms/step - loss: 0.0128 - compute_accuracy: 1.0000 - val_loss: 0.0098 - val_compute_accuracy: 1.0000\n",
      "Epoch 38/40\n",
      "94/94 [==============================] - 2s 19ms/step - loss: 0.0122 - compute_accuracy: 1.0000 - val_loss: 0.0099 - val_compute_accuracy: 1.0000\n",
      "Epoch 39/40\n",
      "94/94 [==============================] - 2s 20ms/step - loss: 0.0120 - compute_accuracy: 1.0000 - val_loss: 0.0099 - val_compute_accuracy: 1.0000\n",
      "Epoch 40/40\n",
      "94/94 [==============================] - 2s 20ms/step - loss: 0.0121 - compute_accuracy: 1.0000 - val_loss: 0.0145 - val_compute_accuracy: 1.0000\n"
     ]
    }
   ],
   "source": [
    "history = model.fit([img_1, img2], y_train, validation_split=.2, epochs=40, batch_size=128, verbose=1)"
   ],
   "metadata": {
    "collapsed": false,
    "ExecuteTime": {
     "end_time": "2024-04-01T11:17:43.303422200Z",
     "start_time": "2024-04-01T11:16:16.378380700Z"
    }
   }
  },
  {
   "cell_type": "markdown",
   "source": [
    "# 可视化分析"
   ],
   "metadata": {
    "collapsed": false
   }
  },
  {
   "cell_type": "code",
   "execution_count": 21,
   "outputs": [
    {
     "data": {
      "text/plain": "<Figure size 1200x400 with 2 Axes>",
      "image/png": "[encoded data removed]"
     },
     "metadata": {},
     "output_type": "display_data"
    }
   ],
   "source": [
    "import matplotlib.pyplot as plt\n",
    "\n",
    "# 画出损失曲线\n",
    "plt.figure(figsize=(12, 4))\n",
    "\n",
    "# 画出训练损失\n",
    "plt.subplot(1, 2, 1)\n",
    "plt.plot(history.history['loss'], label='Training Loss')\n",
    "plt.plot(history.history['val_loss'], label='Validation Loss')\n",
    "plt.title('Training and Validation Loss')\n",
    "plt.xlabel('Epoch')\n",
    "plt.ylabel('Loss')\n",
    "plt.legend()\n",
    "\n",
    "# 画出准确率曲线\n",
    "plt.subplot(1, 2, 2)\n",
    "plt.plot(history.history['compute_accuracy'], label='Training Accuracy')\n",
    "plt.plot(history.history['val_compute_accuracy'], label='Validation Accuracy')\n",
    "plt.title('Training and Validation Accuracy')\n",
    "plt.xlabel('Epoch')\n",
    "plt.ylabel('Accuracy')\n",
    "plt.legend()\n",
    "\n",
    "plt.tight_layout()\n",
    "# plt.savefig('/kaggle/working/img.png')\n",
    "plt.show()"
   ],
   "metadata": {
    "collapsed": false,
    "ExecuteTime": {
     "end_time": "2024-04-01T11:17:44.300894Z",
     "start_time": "2024-04-01T11:17:43.306436100Z"
    }
   }
  },
  {
   "cell_type": "markdown",
   "source": [
    "# 训练集测试"
   ],
   "metadata": {
    "collapsed": false
   }
  },
  {
   "cell_type": "code",
   "execution_count": 22,
   "outputs": [
    {
     "name": "stdout",
     "output_type": "stream",
     "text": [
      "157/157 [==============================] - 1s 6ms/step\n"
     ]
    }
   ],
   "source": [
    "pred = model.predict([x_test[:, 0], x_test[:, 1]])\n",
    "def compute_accuracy_2(predictions, labels):\n",
    "    return labels[predictions.ravel() < 0.5].mean()"
   ],
   "metadata": {
    "collapsed": false,
    "ExecuteTime": {
     "end_time": "2024-04-01T11:17:45.886567500Z",
     "start_time": "2024-04-01T11:17:44.302460200Z"
    }
   }
  },
  {
   "cell_type": "code",
   "execution_count": 23,
   "outputs": [
    {
     "data": {
      "text/plain": "0.9839718530101642"
     },
     "execution_count": 23,
     "metadata": {},
     "output_type": "execute_result"
    }
   ],
   "source": [
    "compute_accuracy_2(pred, y_test)"
   ],
   "metadata": {
    "collapsed": false,
    "ExecuteTime": {
     "end_time": "2024-04-01T11:17:45.901310400Z",
     "start_time": "2024-04-01T11:17:45.887074Z"
    }
   }
  },
  {
   "cell_type": "markdown",
   "source": [
    "# 模型保存"
   ],
   "metadata": {
    "collapsed": false
   }
  },
  {
   "cell_type": "code",
   "execution_count": 24,
   "outputs": [],
   "source": [
    "model.save('../model/h5/test.h5')"
   ],
   "metadata": {
    "collapsed": false,
    "ExecuteTime": {
     "end_time": "2024-04-01T11:17:45.965130100Z",
     "start_time": "2024-04-01T11:17:45.901310400Z"
    }
   }
  },
  {
   "cell_type": "code",
   "execution_count": 31,
   "outputs": [
    {
     "data": {
      "text/plain": "(5000, 1, 56, 46)"
     },
     "execution_count": 31,
     "metadata": {},
     "output_type": "execute_result"
    }
   ],
   "source": [
    "x_test[:, 0].shape"
   ],
   "metadata": {
    "collapsed": false,
    "ExecuteTime": {
     "end_time": "2024-04-01T12:52:36.746221200Z",
     "start_time": "2024-04-01T12:52:36.713260500Z"
    }
   }
  },
  {
   "cell_type": "code",
   "execution_count": 35,
   "outputs": [
    {
     "name": "stdout",
     "output_type": "stream",
     "text": [
      "1/1 [==============================] - 0s 29ms/step\n"
     ]
    }
   ],
   "source": [
    "a = x_test[:, 0][1]\n",
    "b = x_test[:, 1][1]\n",
    "\n",
    "a = np.expand_dims(a, axis=0)\n",
    "b = np.expand_dims(b, axis=0)\n",
    "c = model.predict([a, b])"
   ],
   "metadata": {
    "collapsed": false,
    "ExecuteTime": {
     "end_time": "2024-04-01T12:55:44.116824400Z",
     "start_time": "2024-04-01T12:55:44.045423400Z"
    }
   }
  },
  {
   "cell_type": "code",
   "execution_count": 37,
   "outputs": [
    {
     "data": {
      "text/plain": "array([ True])"
     },
     "execution_count": 37,
     "metadata": {},
     "output_type": "execute_result"
    }
   ],
   "source": [
    "c.ravel() < 0.5"
   ],
   "metadata": {
    "collapsed": false,
    "ExecuteTime": {
     "end_time": "2024-04-01T13:20:04.778903200Z",
     "start_time": "2024-04-01T13:20:04.771519900Z"
    }
   }
  },
  {
   "cell_type": "code",
   "execution_count": 36,
   "outputs": [
    {
     "data": {
      "text/plain": "1.0"
     },
     "execution_count": 36,
     "metadata": {},
     "output_type": "execute_result"
    }
   ],
   "source": [
    "compute_accuracy_2(c, y_test[1])"
   ],
   "metadata": {
    "collapsed": false,
    "ExecuteTime": {
     "end_time": "2024-04-01T12:55:57.579048100Z",
     "start_time": "2024-04-01T12:55:57.565536600Z"
    }
   }
  }
 ],
 "metadata": {
  "kernelspec": {
   "display_name": "Python 3",
   "language": "python",
   "name": "python3"
  },
  "language_info": {
   "codemirror_mode": {
    "name": "ipython",
    "version": 2
   },
   "file_extension": ".py",
   "mimetype": "text/x-python",
   "name": "python",
   "nbconvert_exporter": "python",
   "pygments_lexer": "ipython2",
   "version": "2.7.6"
  }
 },
 "nbformat": 4,
 "nbformat_minor": 0
}
