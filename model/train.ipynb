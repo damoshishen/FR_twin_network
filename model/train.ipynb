{
 "cells": [
  {
   "cell_type": "markdown",
   "source": [
    "# 导入数据及预处理"
   ],
   "metadata": {
    "collapsed": false
   }
  },
  {
   "cell_type": "code",
   "execution_count": 1,
   "outputs": [],
   "source": [
    "from data_process.Image_pair_creation import *\n",
    "\n",
    "X, Y = get_data_from_npy(size=2, total_sample_size=10000)"
   ],
   "metadata": {
    "collapsed": false,
    "ExecuteTime": {
     "end_time": "2024-03-25T10:28:34.745197500Z",
     "start_time": "2024-03-25T10:28:34.044494500Z"
    }
   }
  },
  {
   "cell_type": "code",
   "execution_count": 2,
   "outputs": [
    {
     "data": {
      "text/plain": "(20000, 2, 1, 56, 46)"
     },
     "execution_count": 2,
     "metadata": {},
     "output_type": "execute_result"
    }
   ],
   "source": [
    "X.shape"
   ],
   "metadata": {
    "collapsed": false,
    "ExecuteTime": {
     "end_time": "2024-03-25T10:28:34.764219300Z",
     "start_time": "2024-03-25T10:28:34.745197500Z"
    }
   }
  },
  {
   "cell_type": "code",
   "execution_count": 3,
   "outputs": [
    {
     "data": {
      "text/plain": "(1, 56, 46)"
     },
     "execution_count": 3,
     "metadata": {},
     "output_type": "execute_result"
    }
   ],
   "source": [
    "X[1,0].shape"
   ],
   "metadata": {
    "collapsed": false,
    "ExecuteTime": {
     "end_time": "2024-03-25T10:28:34.824326500Z",
     "start_time": "2024-03-25T10:28:34.764219300Z"
    }
   }
  },
  {
   "cell_type": "code",
   "execution_count": 4,
   "outputs": [
    {
     "data": {
      "text/plain": "<PIL.Image.Image image mode=L size=46x56>",
      "image/png": "[encoded data removed]",
      "image/jpeg": "[encoded data removed]"
     },
     "execution_count": 4,
     "metadata": {},
     "output_type": "execute_result"
    }
   ],
   "source": [
    "from PIL import Image\n",
    "your_matrix = np.squeeze(X[1,0])\n",
    "image = Image.fromarray(np.uint8(your_matrix * 255))\n",
    "image"
   ],
   "metadata": {
    "collapsed": false,
    "ExecuteTime": {
     "end_time": "2024-03-25T10:28:34.830107Z",
     "start_time": "2024-03-25T10:28:34.780367600Z"
    }
   }
  },
  {
   "cell_type": "code",
   "execution_count": 5,
   "outputs": [
    {
     "data": {
      "text/plain": "(20000, 1)"
     },
     "execution_count": 5,
     "metadata": {},
     "output_type": "execute_result"
    }
   ],
   "source": [
    "Y.shape"
   ],
   "metadata": {
    "collapsed": false,
    "ExecuteTime": {
     "end_time": "2024-03-25T10:28:34.840124600Z",
     "start_time": "2024-03-25T10:28:34.828458700Z"
    }
   }
  },
  {
   "cell_type": "code",
   "execution_count": 6,
   "outputs": [],
   "source": [
    "from sklearn.model_selection import train_test_split\n",
    "x_train, x_test, y_train, y_test = train_test_split(X, Y, test_size=.25)"
   ],
   "metadata": {
    "collapsed": false,
    "ExecuteTime": {
     "end_time": "2024-03-25T10:28:35.464818200Z",
     "start_time": "2024-03-25T10:28:34.840124600Z"
    }
   }
  },
  {
   "cell_type": "code",
   "execution_count": 7,
   "outputs": [
    {
     "data": {
      "text/plain": "(15000, 2, 1, 56, 46)"
     },
     "execution_count": 7,
     "metadata": {},
     "output_type": "execute_result"
    }
   ],
   "source": [
    "x_train.shape"
   ],
   "metadata": {
    "collapsed": false,
    "ExecuteTime": {
     "end_time": "2024-03-25T10:28:35.478366400Z",
     "start_time": "2024-03-25T10:28:35.464818200Z"
    }
   }
  },
  {
   "cell_type": "markdown",
   "source": [
    "# 网络搭建"
   ],
   "metadata": {
    "collapsed": false
   }
  },
  {
   "cell_type": "code",
   "execution_count": 8,
   "outputs": [],
   "source": [
    "from model.network import *\n",
    "\n",
    "input_dim = x_train.shape[2:]\n",
    "img_a = Input(shape=input_dim)\n",
    "img_b = Input(shape=input_dim)"
   ],
   "metadata": {
    "collapsed": false,
    "ExecuteTime": {
     "end_time": "2024-03-25T10:28:37.495395400Z",
     "start_time": "2024-03-25T10:28:35.478366400Z"
    }
   }
  },
  {
   "cell_type": "code",
   "execution_count": 9,
   "outputs": [
    {
     "data": {
      "text/plain": "TensorShape([None, 1, 56, 46])"
     },
     "execution_count": 9,
     "metadata": {},
     "output_type": "execute_result"
    }
   ],
   "source": [
    "img_a.shape"
   ],
   "metadata": {
    "collapsed": false,
    "ExecuteTime": {
     "end_time": "2024-03-25T10:28:37.510151100Z",
     "start_time": "2024-03-25T10:28:37.499579700Z"
    }
   }
  },
  {
   "cell_type": "code",
   "execution_count": 10,
   "outputs": [
    {
     "data": {
      "text/plain": "(1, 56, 46)"
     },
     "execution_count": 10,
     "metadata": {},
     "output_type": "execute_result"
    }
   ],
   "source": [
    "input_dim"
   ],
   "metadata": {
    "collapsed": false,
    "ExecuteTime": {
     "end_time": "2024-03-25T10:28:37.557911900Z",
     "start_time": "2024-03-25T10:28:37.513968100Z"
    }
   }
  },
  {
   "cell_type": "code",
   "execution_count": 11,
   "outputs": [],
   "source": [
    "base_network = build_base_network(input_dim)\n",
    "feat_vecs_a = base_network(img_a)\n",
    "feat_vecs_b = base_network(img_b)"
   ],
   "metadata": {
    "collapsed": false,
    "ExecuteTime": {
     "end_time": "2024-03-25T10:28:39.379028300Z",
     "start_time": "2024-03-25T10:28:38.757927100Z"
    }
   }
  },
  {
   "cell_type": "code",
   "execution_count": 12,
   "outputs": [
    {
     "data": {
      "text/plain": "<KerasTensor: shape=(None, 50) dtype=float32 (created by layer 'sequential')>"
     },
     "execution_count": 12,
     "metadata": {},
     "output_type": "execute_result"
    }
   ],
   "source": [
    "feat_vecs_a"
   ],
   "metadata": {
    "collapsed": false,
    "ExecuteTime": {
     "end_time": "2024-03-25T10:28:39.394154200Z",
     "start_time": "2024-03-25T10:28:39.379028300Z"
    }
   }
  },
  {
   "cell_type": "markdown",
   "source": [
    "# 距离函数"
   ],
   "metadata": {
    "collapsed": false
   }
  },
  {
   "cell_type": "code",
   "execution_count": 13,
   "outputs": [],
   "source": [
    "from distance_function import *\n",
    "distance = EuclideanDistanceLayer()([feat_vecs_a, feat_vecs_b])"
   ],
   "metadata": {
    "collapsed": false,
    "ExecuteTime": {
     "end_time": "2024-03-25T10:28:39.437915900Z",
     "start_time": "2024-03-25T10:28:39.394154200Z"
    }
   }
  },
  {
   "cell_type": "code",
   "execution_count": 14,
   "outputs": [],
   "source": [
    "from keras.models import Model\n",
    "model = Model(inputs=[img_a, img_b], outputs=distance)"
   ],
   "metadata": {
    "collapsed": false,
    "ExecuteTime": {
     "end_time": "2024-03-25T10:28:39.457007Z",
     "start_time": "2024-03-25T10:28:39.437915900Z"
    }
   }
  },
  {
   "cell_type": "markdown",
   "source": [
    "# 优化器与损失函数"
   ],
   "metadata": {
    "collapsed": false
   }
  },
  {
   "cell_type": "code",
   "execution_count": 15,
   "outputs": [],
   "source": [
    "import tensorflow as tf\n",
    "\n",
    "def compute_accuracy(predictions, labels):\n",
    "    predictions = tf.reshape(predictions, [-1])  # 将预测结果展平\n",
    "    a = tf.reduce_mean(tf.cast(labels[predictions < 0.5], dtype=tf.float32))\n",
    "    return tf.where(a > 1, tf.ones_like(a), a)"
   ],
   "metadata": {
    "collapsed": false,
    "ExecuteTime": {
     "end_time": "2024-03-25T10:28:39.476460700Z",
     "start_time": "2024-03-25T10:28:39.458313700Z"
    }
   }
  },
  {
   "cell_type": "code",
   "execution_count": 16,
   "outputs": [],
   "source": [
    "# 优化器\n",
    "from keras.optimizers import RMSprop\n",
    "\n",
    "# 损失函数\n",
    "def contrastive_loss(y_true, y_pred):\n",
    "    margin = 1\n",
    "    return K.mean(y_true * K.square(y_pred) + (1 - y_true) * K.square(K.maximum(margin - y_pred, 0)))"
   ],
   "metadata": {
    "collapsed": false,
    "ExecuteTime": {
     "end_time": "2024-03-25T10:28:39.490236700Z",
     "start_time": "2024-03-25T10:28:39.476460700Z"
    }
   }
  },
  {
   "cell_type": "code",
   "execution_count": 17,
   "outputs": [
    {
     "name": "stdout",
     "output_type": "stream",
     "text": [
      "Model: \"model\"\n",
      "__________________________________________________________________________________________________\n",
      " Layer (type)                   Output Shape         Param #     Connected to                     \n",
      "==================================================================================================\n",
      " input_1 (InputLayer)           [(None, 1, 56, 46)]  0           []                               \n",
      "                                                                                                  \n",
      " input_2 (InputLayer)           [(None, 1, 56, 46)]  0           []                               \n",
      "                                                                                                  \n",
      " sequential (Sequential)        (None, 50)           394046      ['input_1[0][0]',                \n",
      "                                                                  'input_2[0][0]']                \n",
      "                                                                                                  \n",
      " euclidean_distance_layer (Eucl  (None, 1)           0           ['sequential[0][0]',             \n",
      " ideanDistanceLayer)                                              'sequential[1][0]']             \n",
      "                                                                                                  \n",
      "==================================================================================================\n",
      "Total params: 394,046\n",
      "Trainable params: 394,046\n",
      "Non-trainable params: 0\n",
      "__________________________________________________________________________________________________\n"
     ]
    }
   ],
   "source": [
    "model.compile(loss=contrastive_loss, optimizer=RMSprop(learning_rate=0.001),\n",
    "              metrics=[compute_accuracy])\n",
    "model.summary()"
   ],
   "metadata": {
    "collapsed": false,
    "ExecuteTime": {
     "end_time": "2024-03-25T10:28:39.535584300Z",
     "start_time": "2024-03-25T10:28:39.490236700Z"
    }
   }
  },
  {
   "cell_type": "markdown",
   "source": [
    "# 模型训练"
   ],
   "metadata": {
    "collapsed": false
   }
  },
  {
   "cell_type": "code",
   "execution_count": 18,
   "outputs": [],
   "source": [
    "img_1 = x_train[:, 0]\n",
    "img2 = x_train[:, 1]"
   ],
   "metadata": {
    "collapsed": false,
    "ExecuteTime": {
     "end_time": "2024-03-25T10:28:39.540889600Z",
     "start_time": "2024-03-25T10:28:39.535584300Z"
    }
   }
  },
  {
   "cell_type": "code",
   "execution_count": 19,
   "outputs": [
    {
     "data": {
      "text/plain": "(15000, 1, 56, 46)"
     },
     "execution_count": 19,
     "metadata": {},
     "output_type": "execute_result"
    }
   ],
   "source": [
    "img_1.shape"
   ],
   "metadata": {
    "collapsed": false,
    "ExecuteTime": {
     "end_time": "2024-03-25T10:28:39.556417900Z",
     "start_time": "2024-03-25T10:28:39.537435300Z"
    }
   }
  },
  {
   "cell_type": "code",
   "execution_count": 20,
   "outputs": [
    {
     "name": "stdout",
     "output_type": "stream",
     "text": [
      "Epoch 1/15\n",
      "375/375 [==============================] - 7s 8ms/step - loss: 0.2062 - compute_accuracy: 0.6836 - val_loss: 0.2452 - val_compute_accuracy: 0.3280\n",
      "Epoch 2/15\n",
      "375/375 [==============================] - 3s 7ms/step - loss: 0.1104 - compute_accuracy: 0.8632 - val_loss: 0.1398 - val_compute_accuracy: 0.5265\n",
      "Epoch 3/15\n",
      "375/375 [==============================] - 3s 7ms/step - loss: 0.0724 - compute_accuracy: 0.9547 - val_loss: 0.0700 - val_compute_accuracy: 0.7558\n",
      "Epoch 4/15\n",
      "375/375 [==============================] - 3s 8ms/step - loss: 0.0546 - compute_accuracy: 0.9849 - val_loss: 0.0483 - val_compute_accuracy: 0.8521\n",
      "Epoch 5/15\n",
      "375/375 [==============================] - 3s 7ms/step - loss: 0.0442 - compute_accuracy: 0.9939 - val_loss: 0.0346 - val_compute_accuracy: 0.9362\n",
      "Epoch 6/15\n",
      "375/375 [==============================] - 3s 7ms/step - loss: 0.0378 - compute_accuracy: 0.9961 - val_loss: 0.0286 - val_compute_accuracy: 0.9700\n",
      "Epoch 7/15\n",
      "375/375 [==============================] - 3s 8ms/step - loss: 0.0319 - compute_accuracy: 0.9986 - val_loss: 0.0254 - val_compute_accuracy: 0.9910\n",
      "Epoch 8/15\n",
      "375/375 [==============================] - 3s 7ms/step - loss: 0.0273 - compute_accuracy: 1.0000 - val_loss: 0.0176 - val_compute_accuracy: 0.9998\n",
      "Epoch 9/15\n",
      "375/375 [==============================] - 3s 8ms/step - loss: 0.0241 - compute_accuracy: 0.9998 - val_loss: 0.0149 - val_compute_accuracy: 1.0000\n",
      "Epoch 10/15\n",
      "375/375 [==============================] - 3s 7ms/step - loss: 0.0215 - compute_accuracy: 1.0000 - val_loss: 0.0148 - val_compute_accuracy: 1.0000\n",
      "Epoch 11/15\n",
      "375/375 [==============================] - 3s 7ms/step - loss: 0.0191 - compute_accuracy: 1.0000 - val_loss: 0.0137 - val_compute_accuracy: 1.0000\n",
      "Epoch 12/15\n",
      "375/375 [==============================] - 3s 7ms/step - loss: 0.0177 - compute_accuracy: 1.0000 - val_loss: 0.0132 - val_compute_accuracy: 1.0000\n",
      "Epoch 13/15\n",
      "375/375 [==============================] - 3s 7ms/step - loss: 0.0162 - compute_accuracy: 0.9999 - val_loss: 0.0136 - val_compute_accuracy: 1.0000\n",
      "Epoch 14/15\n",
      "375/375 [==============================] - 3s 7ms/step - loss: 0.0149 - compute_accuracy: 1.0000 - val_loss: 0.0106 - val_compute_accuracy: 1.0000\n",
      "Epoch 15/15\n",
      "375/375 [==============================] - 3s 8ms/step - loss: 0.0146 - compute_accuracy: 1.0000 - val_loss: 0.0114 - val_compute_accuracy: 1.0000\n"
     ]
    }
   ],
   "source": [
    "history = model.fit([img_1, img2], y_train, validation_split=.2, epochs=15, batch_size=32, verbose=1)"
   ],
   "metadata": {
    "collapsed": false,
    "ExecuteTime": {
     "end_time": "2024-03-25T10:29:25.348674400Z",
     "start_time": "2024-03-25T10:28:39.556417900Z"
    }
   }
  },
  {
   "cell_type": "markdown",
   "source": [
    "# 可视化分析"
   ],
   "metadata": {
    "collapsed": false
   }
  },
  {
   "cell_type": "code",
   "execution_count": 21,
   "outputs": [
    {
     "data": {
      "text/plain": "<Figure size 1200x400 with 2 Axes>",
      "image/png": "[encoded data removed]"
     },
     "metadata": {},
     "output_type": "display_data"
    }
   ],
   "source": [
    "import matplotlib.pyplot as plt\n",
    "\n",
    "# 画出损失曲线\n",
    "plt.figure(figsize=(12, 4))\n",
    "\n",
    "# 画出训练损失\n",
    "plt.subplot(1, 2, 1)\n",
    "plt.plot(history.history['loss'], label='Training Loss')\n",
    "plt.plot(history.history['val_loss'], label='Validation Loss')\n",
    "plt.title('Training and Validation Loss')\n",
    "plt.xlabel('Epoch')\n",
    "plt.ylabel('Loss')\n",
    "plt.legend()\n",
    "\n",
    "# 画出准确率曲线\n",
    "plt.subplot(1, 2, 2)\n",
    "plt.plot(history.history['compute_accuracy'], label='Training Accuracy')\n",
    "plt.plot(history.history['val_compute_accuracy'], label='Validation Accuracy')\n",
    "plt.title('Training and Validation Accuracy')\n",
    "plt.xlabel('Epoch')\n",
    "plt.ylabel('Accuracy')\n",
    "plt.legend()\n",
    "\n",
    "plt.tight_layout()\n",
    "# plt.savefig('/kaggle/working/img.png')\n",
    "plt.show()"
   ],
   "metadata": {
    "collapsed": false,
    "ExecuteTime": {
     "end_time": "2024-03-25T10:29:25.850900100Z",
     "start_time": "2024-03-25T10:29:25.348674400Z"
    }
   }
  },
  {
   "cell_type": "markdown",
   "source": [
    "# 训练集测试"
   ],
   "metadata": {
    "collapsed": false
   }
  },
  {
   "cell_type": "code",
   "execution_count": 22,
   "outputs": [
    {
     "name": "stdout",
     "output_type": "stream",
     "text": [
      "157/157 [==============================] - 1s 3ms/step\n"
     ]
    }
   ],
   "source": [
    "pred = model.predict([x_test[:, 0], x_test[:, 1]])\n",
    "def compute_accuracy_2(predictions, labels):\n",
    "    return labels[predictions.ravel() < 0.5].mean()"
   ],
   "metadata": {
    "collapsed": false,
    "ExecuteTime": {
     "end_time": "2024-03-25T10:29:26.601193400Z",
     "start_time": "2024-03-25T10:29:25.851418700Z"
    }
   }
  },
  {
   "cell_type": "code",
   "execution_count": 23,
   "outputs": [
    {
     "data": {
      "text/plain": "0.9824561403508771"
     },
     "execution_count": 23,
     "metadata": {},
     "output_type": "execute_result"
    }
   ],
   "source": [
    "compute_accuracy_2(pred, y_test)"
   ],
   "metadata": {
    "collapsed": false,
    "ExecuteTime": {
     "end_time": "2024-03-25T10:29:26.616898900Z",
     "start_time": "2024-03-25T10:29:26.601193400Z"
    }
   }
  }
 ],
 "metadata": {
  "kernelspec": {
   "display_name": "Python 3",
   "language": "python",
   "name": "python3"
  },
  "language_info": {
   "codemirror_mode": {
    "name": "ipython",
    "version": 2
   },
   "file_extension": ".py",
   "mimetype": "text/x-python",
   "name": "python",
   "nbconvert_exporter": "python",
   "pygments_lexer": "ipython2",
   "version": "2.7.6"
  }
 },
 "nbformat": 4,
 "nbformat_minor": 0
}
